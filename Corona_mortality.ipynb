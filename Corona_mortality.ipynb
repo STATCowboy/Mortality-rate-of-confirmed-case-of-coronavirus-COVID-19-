{
 "cells": [
  {
   "cell_type": "markdown",
   "metadata": {},
   "source": [
    "# Covid-19 Death rate\n",
    "In this work I want to see if there is any relatonship between a state feathers and the death rate from coronavirus.\n",
    "## Data prepration\n",
    "### Coronavirus data"
   ]
  },
  {
   "cell_type": "code",
   "execution_count": 58,
   "metadata": {},
   "outputs": [
    {
     "name": "stdout",
     "output_type": "stream",
     "text": [
      "last updated file found in 2020-03-26\n"
     ]
    }
   ],
   "source": [
    "import pandas as pd\n",
    "from datetime import date,timedelta\n",
    "last_updated_date = date.today()\n",
    "delta = timedelta(days=1)\n",
    "import requests\n",
    "base_url =  'https://raw.githubusercontent.com/CSSEGISandData/COVID-19/master/csse_covid_19_data/csse_covid_19_daily_reports/'\n",
    "url = base_url+last_updated_date.strftime(\"%m-%d-%Y\")+'.csv'\n",
    "while requests.get(url).status_code==404:\n",
    "    last_updated_date-=delta\n",
    "    url = base_url+last_updated_date.strftime(\"%m-%d-%Y\")+'.csv'\n",
    "print(\"last updated file found in %s\"%last_updated_date)\n",
    "    \n",
    "df = pd.read_csv(url,index_col=0,parse_dates=[0])"
   ]
  },
  {
   "cell_type": "code",
   "execution_count": 78,
   "metadata": {},
   "outputs": [],
   "source": [
    "df_usa_raw = df[df[\"Country_Region\"]==\"US\"]"
   ]
  },
  {
   "cell_type": "code",
   "execution_count": 102,
   "metadata": {},
   "outputs": [],
   "source": [
    "df_usa=df_usa_raw.drop(columns=['Admin2','Country_Region', 'Last_Update', 'Lat','Long_'])\n",
    "df_usa_states_raw = df_usa.groupby('Province_State').sum()\n",
    "df_usa_states_raw=df_usa_states_raw.sort_values('Province_State')"
   ]
  },
  {
   "cell_type": "code",
   "execution_count": 112,
   "metadata": {},
   "outputs": [],
   "source": [
    "df_usa_states =df_usa_states_raw.drop(index=['Grand Princess','Diamond Princess','District of Columbia','Northern Mariana Islands',\\\n",
    "                                             'Recovered','American Samoa','Virgin Islands','Guam','Puerto Rico','Virgin Islands'])"
   ]
  },
  {
   "cell_type": "code",
   "execution_count": 113,
   "metadata": {},
   "outputs": [
    {
     "data": {
      "text/plain": [
       "50"
      ]
     },
     "execution_count": 113,
     "metadata": {},
     "output_type": "execute_result"
    }
   ],
   "source": [
    "len(df_usa_states)"
   ]
  },
  {
   "cell_type": "code",
   "execution_count": null,
   "metadata": {},
   "outputs": [],
   "source": []
  }
 ],
 "metadata": {
  "kernelspec": {
   "display_name": "Python 3",
   "language": "python",
   "name": "python3"
  },
  "language_info": {
   "codemirror_mode": {
    "name": "ipython",
    "version": 3
   },
   "file_extension": ".py",
   "mimetype": "text/x-python",
   "name": "python",
   "nbconvert_exporter": "python",
   "pygments_lexer": "ipython3",
   "version": "3.7.6"
  }
 },
 "nbformat": 4,
 "nbformat_minor": 4
}
